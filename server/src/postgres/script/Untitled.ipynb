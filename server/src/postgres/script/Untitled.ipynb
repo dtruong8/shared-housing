{
 "cells": [
  {
   "cell_type": "code",
   "execution_count": 1,
   "metadata": {},
   "outputs": [],
   "source": [
    "import os\n",
    "import glob\n",
    "import pandas as pd\n",
    "import psycopg2 as pg2\n",
    "from sql_queries import *"
   ]
  },
  {
   "cell_type": "code",
   "execution_count": 8,
   "metadata": {},
   "outputs": [],
   "source": [
    "conn = pg2.connect( )\n",
    "cur = conn.cursor()\n",
    "df = pd.read_csv(f'C:\\\\Users\\\\alber\\\\Desktop\\\\myWork\\\\projects\\\\shared_house\\\\shared-housing\\\\server\\\\src\\\\postgres\\\\tsv files\\\\CLIENTINFO.txt', sep='\\t', dtype = object)"
   ]
  },
  {
   "cell_type": "code",
   "execution_count": 9,
   "metadata": {},
   "outputs": [
    {
     "data": {
      "text/html": [
       "<div>\n",
       "<style scoped>\n",
       "    .dataframe tbody tr th:only-of-type {\n",
       "        vertical-align: middle;\n",
       "    }\n",
       "\n",
       "    .dataframe tbody tr th {\n",
       "        vertical-align: top;\n",
       "    }\n",
       "\n",
       "    .dataframe thead th {\n",
       "        text-align: right;\n",
       "    }\n",
       "</style>\n",
       "<table border=\"1\" class=\"dataframe\">\n",
       "  <thead>\n",
       "    <tr style=\"text-align: right;\">\n",
       "      <th></th>\n",
       "      <th>clientID</th>\n",
       "      <th>firstname</th>\n",
       "      <th>lastname</th>\n",
       "      <th>email</th>\n",
       "      <th>birthdate</th>\n",
       "      <th>gender</th>\n",
       "      <th>ethnicity</th>\n",
       "    </tr>\n",
       "  </thead>\n",
       "  <tbody>\n",
       "    <tr>\n",
       "      <th>0</th>\n",
       "      <td>12345678</td>\n",
       "      <td>dean</td>\n",
       "      <td>truong</td>\n",
       "      <td>deantruong92@gmail.com</td>\n",
       "      <td>11/27/1992</td>\n",
       "      <td>male</td>\n",
       "      <td>vietnamese</td>\n",
       "    </tr>\n",
       "    <tr>\n",
       "      <th>1</th>\n",
       "      <td>24681012</td>\n",
       "      <td>jesus</td>\n",
       "      <td>lopez</td>\n",
       "      <td>jesuslopez@gmail.com</td>\n",
       "      <td>7/16/1988</td>\n",
       "      <td>male</td>\n",
       "      <td>mexican</td>\n",
       "    </tr>\n",
       "    <tr>\n",
       "      <th>2</th>\n",
       "      <td>13579111</td>\n",
       "      <td>joanne</td>\n",
       "      <td>olivio</td>\n",
       "      <td>joanne.olivio@gmail.com</td>\n",
       "      <td>2/28/1965</td>\n",
       "      <td>female</td>\n",
       "      <td>ecuadorian</td>\n",
       "    </tr>\n",
       "    <tr>\n",
       "      <th>3</th>\n",
       "      <td>67184632</td>\n",
       "      <td>cleveland</td>\n",
       "      <td>wilcox</td>\n",
       "      <td>clevelandwilcox2019@outlook.com</td>\n",
       "      <td>7/10/1993</td>\n",
       "      <td>male</td>\n",
       "      <td>NaN</td>\n",
       "    </tr>\n",
       "    <tr>\n",
       "      <th>4</th>\n",
       "      <td>98321065</td>\n",
       "      <td>phoebe</td>\n",
       "      <td>buffay</td>\n",
       "      <td>NaN</td>\n",
       "      <td>00/00/0000</td>\n",
       "      <td>female</td>\n",
       "      <td>caucasian</td>\n",
       "    </tr>\n",
       "  </tbody>\n",
       "</table>\n",
       "</div>"
      ],
      "text/plain": [
       "   clientID  firstname lastname                            email   birthdate  \\\n",
       "0  12345678       dean   truong           deantruong92@gmail.com  11/27/1992   \n",
       "1  24681012      jesus    lopez             jesuslopez@gmail.com   7/16/1988   \n",
       "2  13579111     joanne   olivio          joanne.olivio@gmail.com   2/28/1965   \n",
       "3  67184632  cleveland   wilcox  clevelandwilcox2019@outlook.com   7/10/1993   \n",
       "4  98321065    phoebe    buffay                              NaN  00/00/0000   \n",
       "\n",
       "   gender   ethnicity  \n",
       "0    male  vietnamese  \n",
       "1    male     mexican  \n",
       "2  female  ecuadorian  \n",
       "3    male         NaN  \n",
       "4  female   caucasian  "
      ]
     },
     "execution_count": 9,
     "metadata": {},
     "output_type": "execute_result"
    }
   ],
   "source": [
    "df['birthdate'] = df['birthdate'].fillna('01/01/0001')\n",
    "df"
   ]
  }
 ],
 "metadata": {
  "kernelspec": {
   "display_name": "Python 3",
   "language": "python",
   "name": "python3"
  },
  "language_info": {
   "codemirror_mode": {
    "name": "ipython",
    "version": 3
   },
   "file_extension": ".py",
   "mimetype": "text/x-python",
   "name": "python",
   "nbconvert_exporter": "python",
   "pygments_lexer": "ipython3",
   "version": "3.7.3"
  }
 },
 "nbformat": 4,
 "nbformat_minor": 2
}
